{
 "cells": [
  {
   "cell_type": "markdown",
   "id": "f74aeca3-3fa9-4211-a230-908dbf8b3f11",
   "metadata": {},
   "source": [
    "## Answer No.1\n",
    "The three measures of central tendency are Mean , Median , Mode."
   ]
  },
  {
   "cell_type": "markdown",
   "id": "8ca930c5-58a0-4cc0-bc34-4922d6236487",
   "metadata": {},
   "source": [
    "## Answer No.2\n",
    "Mean: The mean is the arithmetic average of all the values in a dataset. To calculate the mean we use the formula for the mean (μ) is:                                         \n",
    "μ = (sum of all data points) / (number of data points)                                \n",
    "\n",
    "Median: The median is the middle value in an ordered (sorted) dataset. To find the median, you arrange the data points in ascending or descending order and select the middle value.                               \n",
    " \n",
    "Mode: The mode is the value that appears most frequently in the dataset. In some datasets, there may be multiple modes (bimodal, trimodal, etc.), or there might be no mode (all values occur with the same frequency).                           \n",
    "\n",
    "In summary:                                                   \n",
    "The mean is used for datasets with no significant outliers and approximately normally distributed continuous data.    \n",
    "The median is used for datasets with outliers or skewed data.       \n",
    "The mode is used for categorical or discrete data to identify the most frequent category or value."
   ]
  },
  {
   "cell_type": "markdown",
   "id": "b9eed404-db43-4fbb-a07b-850219c48ec9",
   "metadata": {},
   "source": [
    "## Answer No.3"
   ]
  },
  {
   "cell_type": "code",
   "execution_count": 6,
   "id": "d97e417d-8c69-4d37-a3c5-19ca5e28ea0a",
   "metadata": {},
   "outputs": [],
   "source": [
    "## Mean(Average )\n",
    "height=[178,177,176,177,178.2,178,175,179,180,175,178.9,176.2,177,172.5,178,176.5]"
   ]
  },
  {
   "cell_type": "markdown",
   "id": "2bfbc1f0-addb-400d-a116-3bbd52c2d020",
   "metadata": {},
   "source": [
    "import numpy as np\n",
    "np.mean(height)"
   ]
  },
  {
   "cell_type": "code",
   "execution_count": 8,
   "id": "a5ba550c-6611-4fb8-a66e-97bf74065d6e",
   "metadata": {},
   "outputs": [
    {
     "data": {
      "text/plain": [
       "177.0"
      ]
     },
     "execution_count": 8,
     "metadata": {},
     "output_type": "execute_result"
    }
   ],
   "source": [
    "## Median\n",
    "np.median(height)"
   ]
  },
  {
   "cell_type": "code",
   "execution_count": 13,
   "id": "5e4e9b9e-5b2e-441c-b67c-4db0893df7d5",
   "metadata": {},
   "outputs": [
    {
     "name": "stderr",
     "output_type": "stream",
     "text": [
      "/tmp/ipykernel_483/3846226869.py:2: FutureWarning: Unlike other reduction functions (e.g. `skew`, `kurtosis`), the default behavior of `mode` typically preserves the axis it acts along. In SciPy 1.11.0, this behavior will change: the default value of `keepdims` will become False, the `axis` over which the statistic is taken will be eliminated, and the value None will no longer be accepted. Set `keepdims` to True or False to avoid this warning.\n",
      "  stats.mode(height)\n"
     ]
    },
    {
     "data": {
      "text/plain": [
       "ModeResult(mode=array([177.]), count=array([3]))"
      ]
     },
     "execution_count": 13,
     "metadata": {},
     "output_type": "execute_result"
    }
   ],
   "source": [
    "## Mode\n",
    "from scipy import stats\n",
    "stats.mode(height)"
   ]
  },
  {
   "cell_type": "markdown",
   "id": "63205ebd-9e1b-4a5a-9076-50af31b4a94e",
   "metadata": {},
   "source": [
    "## Answer No.4"
   ]
  },
  {
   "cell_type": "code",
   "execution_count": 15,
   "id": "26dd24ff-ff6a-495c-baca-e8d6ca81ac2e",
   "metadata": {},
   "outputs": [],
   "source": [
    "## standard Deviation\n",
    "data = [178,177,176,177,178.2,178,175,179,180,175,178.9,176.2,177,172.5,178,176.5]"
   ]
  },
  {
   "cell_type": "code",
   "execution_count": 16,
   "id": "551e0cf1-a82b-4d44-9b25-2b360c52d898",
   "metadata": {},
   "outputs": [
    {
     "data": {
      "text/plain": [
       "1.7885814036548633"
      ]
     },
     "execution_count": 16,
     "metadata": {},
     "output_type": "execute_result"
    }
   ],
   "source": [
    "import numpy as np \n",
    "np.std(data)"
   ]
  },
  {
   "cell_type": "markdown",
   "id": "d62d94b6-18c9-427e-9923-aed668b6710a",
   "metadata": {},
   "source": [
    "## Answer No.5\n",
    "Measures of dispersion, such as range, variance, and standard deviation, are used to quantify and describe the spread or variability of data points in a dataset.                                      \n",
    "\n",
    "1) Range: The range is the simplest measure of dispersion and is calculated as the difference between the maximum and minimum values in the dataset. It represents the total spread of the data from the lowest to the highest value.\n",
    "\n",
    "Example: Consider a dataset of exam scores for a class of students: {75, 82, 90, 68, 85, 93, 78, 88}. The range would be calculated as follows:\n",
    "\n",
    "Range = Maximum value - Minimum value = 93 - 68 = 25.                                \n",
    "\n",
    "2) Variance: The variance is a more robust measure of dispersion that quantifies the average of the squared differences between each data point and the mean. It provides a measure of the spread of data points from the mean.       \n",
    "\n",
    "Example: Let's continue with the same dataset of exam scores: {75, 82, 90, 68, 85, 93, 78, 88}. To calculate the variance, we first find the mean:\n",
    "\n",
    "Mean = (75 + 82 + 90 + 68 + 85 + 93 + 78 + 88) / 8 = 82.125.\n",
    "\n",
    "Next, we calculate the squared differences between each data point and the mean:\n",
    "\n",
    "(75 - 82.125)^2 ≈ 51.766\n",
    "(82 - 82.125)^2 ≈ 0.016\n",
    "(90 - 82.125)^2 ≈ 61.766\n",
    "...\n",
    "(88 - 82.125)^2 ≈ 34.766\n",
    "\n",
    "Then, we find the average of these squared differences:\n",
    "\n",
    "Variance = (51.766 + 0.016 + 61.766 + ... + 34.766) / 8 ≈ 61.98.\n",
    "\n",
    "3) Standard Deviation: The standard deviation is the square root of the variance and provides a measure of dispersion in the original units of the data. It is a widely used measure because it has the same unit of measurement as the data, making it more interpretable.\n",
    "\n",
    "Example: Using the same dataset of exam scores, the standard deviation would be:\n",
    "\n",
    "Standard Deviation ≈ √61.98 ≈ 7.87."
   ]
  },
  {
   "cell_type": "markdown",
   "id": "9813c05a-21f4-4521-80dc-74ac2f3d403c",
   "metadata": {},
   "source": [
    "## Answer No.6\n",
    "A Venn diagram is a visual representation used to illustrate the relationships between different sets or groups. It consists of overlapping circles or other closed curves, each representing a set, and the areas of overlap represent the elements that are common to the sets."
   ]
  },
  {
   "cell_type": "markdown",
   "id": "0909f5ac-a25b-4c61-9518-707c98c3bbe2",
   "metadata": {},
   "source": [
    "## Answer No.7\n",
    "A = (2,3,4,5,6,7) & B = (0,2,6,8,10)                                                \n",
    "(i) A and B      {2,6}                                                            \n",
    "(ii) A ⋃ B       {2,3,4,5,6,7,0,8,10}"
   ]
  },
  {
   "cell_type": "markdown",
   "id": "afc8108e-3400-4600-a9b2-90afb37bed63",
   "metadata": {},
   "source": [
    "## Answer No.8\n",
    "Skewness in data refers to the asymmetry or lack of symmetry in the distribution of data points around the central tendency (mean, median, or mode). When a dataset is not symmetrically distributed, it is said to be skewed. Skewness is an important aspect to consider when analyzing and interpreting data because it can provide insights into the underlying characteristics of the dataset."
   ]
  },
  {
   "cell_type": "markdown",
   "id": "4561e21b-2cb7-4bd1-b098-ba517a513fcc",
   "metadata": {},
   "source": [
    "## Answer No.9\n",
    "If a data is right-skewed, the position of the median will be to the left of the mean."
   ]
  },
  {
   "cell_type": "markdown",
   "id": "5e51f540-1fc3-47f9-9bc8-90b17355d351",
   "metadata": {},
   "source": [
    "## Answer No.10\n",
    "Covariance:                                                                      \n",
    "Covariance measures the degree to which two variables change together. It indicates whether the two variables increase or decrease in tandem. A positive covariance indicates that when one variable goes up, the other tends to go up as well, and when one goes down, the other tends to go down. On the other hand, a negative covariance indicates that when one variable goes up, the other tends to go down and vice versa.\n",
    "\n",
    "Correlation:                                                             \n",
    "Correlation is a standardized measure that quantifies the strength and direction of the linear relationship between two variables. It ranges from -1 to 1, where -1 indicates a perfect negative linear relationship, 1 indicates a perfect positive linear relationship, and 0 indicates no linear relationship. Correlation takes into account the scales of the variables and normalizes the covariance.\n",
    "\n",
    "In statistical analysis:                                                                                          \n",
    "Covariance is used to understand the direction of the relationship between two variables, whether it is positive or negative.      \n",
    "Correlation is used to assess the strength and direction of the linear relationship between two variables, and it provides a standardized measure that allows for comparison between different datasets."
   ]
  },
  {
   "cell_type": "markdown",
   "id": "8d8b3e2c-4f08-4de5-8181-d4294cb160e5",
   "metadata": {},
   "source": [
    "## Answer No.11\n",
    "The formula for calculating the sample mean, denoted by x bar                                     \n",
    "sample mean = xi/n                                                \n",
    "Example:                                      \n",
    "we have Dataset like ={10,20,20,50}                                          \n",
    "Step 1: Add up all the data points: [10+20+20+50]= 100                                      \n",
    "\n",
    "Step 2: Count the number of data points (n):\n",
    "In this case, n = 5 because there are 5 data points in the dataset.\n",
    "\n",
    "Step 3: Divide the sum by the number of data points\n",
    "100/5 = 20"
   ]
  },
  {
   "cell_type": "markdown",
   "id": "e75d5d84-97ba-4f3b-a557-79003668e4cf",
   "metadata": {},
   "source": [
    "## Answer No.12\n",
    "For a normal distribution, three common measures of central tendency are mean, median, and mode."
   ]
  },
  {
   "cell_type": "markdown",
   "id": "111b9bea-9b63-4eaf-ba6a-cb84ed0a6ce1",
   "metadata": {},
   "source": [
    "## Answer No.13\n",
    "1) Covariance and correlation are both measures used to assess the relationship between two variables, but they have some key differences:                                                                                                   \n",
    "Covariance measures the degree to which two variables change together. It indicates whether the two variables increase or decrease in tandem. A positive covariance indicates that when one variable goes up, the other tends to go up as well, and when one goes down, the other tends to go down. Conversely, a negative covariance indicates an inverse relationship.\n",
    "\n",
    "Correlation, on the other hand, measures the strength and direction of the linear relationship between two variables. It ranges from -1 to 1, where -1 indicates a perfect negative linear relationship, 1 indicates a perfect positive linear relationship, and 0 indicates no linear relationship.\n",
    "\n",
    "2) Covariance is not standardized and depends on the scales of the variables. As a result, it can be difficult to interpret the magnitude of covariance alone. When dealing with different datasets or variables with different units of measurement, comparing covariances can be misleading. \n",
    "\n",
    "Correlation, on the other hand, is a standardized measure that takes into account the scales of the variables. It provides a more reliable and interpretable measure of the strength of the linear relationship, making it suitable for comparing relationships across different datasets."
   ]
  },
  {
   "cell_type": "markdown",
   "id": "adf657f1-836a-44fa-a169-13ed52fd5899",
   "metadata": {},
   "source": [
    "## Answer No.14\n",
    "Outliers can significantly impact measures of central tendency and dispersion in a dataset. An outlier is an observation that lies far away from the other data points, either on the higher or lower end of the data range. These extreme values can distort the typical patterns of the data and affect the accuracy of the measures.           \n",
    "Measures of Central Tendency:                        \n",
    "1) Mean: The mean is sensitive to outliers because it takes into account all the data points. A single extreme value can significantly pull the mean towards it, causing it to deviate from the true center of the data.\n",
    "2) Median: The median is more robust to outliers since it only considers the middle value in the ordered dataset. An outlier has less impact on the median, making it a more suitable measure of central tendency when dealing with skewed data or datasets with extreme values.\n",
    "3) Mode: The mode represents the most frequent value in the dataset. Outliers may not directly influence the mode unless they appear frequently enough to become the most common value.\n",
    "Example:\n",
    "Consider the following dataset of exam scores: {85, 90, 95, 88, 82, 100, 87, 78, 98, 120}. The value \"120\" is an outlier in this dataset.\n",
    "\n",
    "Mean: \n",
    "(85+90+95+88+82+100+87+78+98+120)/10=102.5\n",
    "(85+90+95+88+82+100+87+78+98+120)/10=102.5. The presence of the outlier \"120\" significantly increases the mean.\n",
    "Median: After sorting the data, the median is the middle value, which is 90. Outliers do not affect the median, so it remains 90.\n",
    "Mode: Since all the other values occur only once, the mode is not affected by the outlier. The mode remains 85.          \n",
    "\n",
    "Measures of Dispersion:\n",
    "1) Range :The range is highly affected by outliers because it depends on the difference between the maximum and minimum values. An outlier can significantly increase the range, making it a less robust measure of dispersion.\n",
    "2) Interquartile Range (IQR): The IQR is more resistant to outliers since it depends on the range of the middle 50% of the data. It is calculated as the difference between the third quartile (Q3) and the first quartile (Q1). Outliers have little effect on the IQR.\n",
    "3) Standard Deviation and Variance: Both standard deviation and variance are sensitive to outliers since they consider the squared differences from the mean. An outlier can cause the variance and standard deviation to be inflated.               \n",
    "Example:\n",
    "Using the same dataset of exam scores: {85, 90, 95, 88, 82, 100, 87, 78, 98, 120}.\n",
    "\n",
    "Range: The range is affected by the outlier \"120\", which increases the range from 42 to 120 - 78 = 42.                    \n",
    "IQR: The IQR is calculated as Q3 - Q1 = 95 - 85 = 10, and it remains unchanged despite the outlier.                          \n",
    "Variance and Standard Deviation: Outliers can significantly impact the variance and standard deviation, making them larger due to the squared differences from the mean."
   ]
  }
 ],
 "metadata": {
  "kernelspec": {
   "display_name": "Python 3 (ipykernel)",
   "language": "python",
   "name": "python3"
  },
  "language_info": {
   "codemirror_mode": {
    "name": "ipython",
    "version": 3
   },
   "file_extension": ".py",
   "mimetype": "text/x-python",
   "name": "python",
   "nbconvert_exporter": "python",
   "pygments_lexer": "ipython3",
   "version": "3.10.8"
  }
 },
 "nbformat": 4,
 "nbformat_minor": 5
}
